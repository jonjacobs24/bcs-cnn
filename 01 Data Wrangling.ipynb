{
 "cells": [
  {
   "cell_type": "code",
   "execution_count": 13,
   "metadata": {},
   "outputs": [],
   "source": [
    "from helper_tools .tciaclient import TCIAClient\n",
    "from helper_tools.dicom_tools import dcmread_image\n",
    "\n",
    "from config import config\n",
    "\n",
    "import pandas as pd\n",
    "import numpy as np\n",
    "import os\n",
    "%matplotlib inline\n",
    "import matplotlib.pyplot as plt\n",
    "import json\n",
    "import sys\n",
    "import math\n",
    "import errno\n",
    "import pydicom as dicom\n",
    "import urllib.request, urllib.error, urllib.parse, urllib.request, urllib.parse, urllib.error,sys\n",
    "\n",
    "\n",
    "\n"
   ]
  },
  {
   "cell_type": "code",
   "execution_count": 14,
   "metadata": {},
   "outputs": [],
   "source": [
    "#directories for data and other files\n",
    "\n",
    "PACKAGE_ROOT = config.PACKAGE_ROOT\n",
    "TRAIN_DIR = config.TRAIN_DIR\n",
    "TEST_DIR = config.TEST_DIR\n"
   ]
  },
  {
   "cell_type": "code",
   "execution_count": 15,
   "metadata": {},
   "outputs": [],
   "source": [
    "#initializing tcia api client for easy queries\n",
    "tcia_client = TCIAClient(baseUrl=\"https://services.cancerimagingarchive.net/services/v4\",resource = \"TCIA\")"
   ]
  },
  {
   "cell_type": "code",
   "execution_count": 16,
   "metadata": {},
   "outputs": [],
   "source": [
    "#reading in metadata including file paths\n",
    "df_paths = pd.read_csv(TRAIN_DIR / 'file-paths-train.csv')"
   ]
  },
  {
   "cell_type": "code",
   "execution_count": 17,
   "metadata": {},
   "outputs": [
    {
     "name": "stdout",
     "output_type": "stream",
     "text": [
      "<class 'pandas.core.frame.DataFrame'>\n",
      "RangeIndex: 2596 entries, 0 to 2595\n",
      "Data columns (total 5 columns):\n",
      " #   Column            Non-Null Count  Dtype \n",
      "---  ------            --------------  ----- \n",
      " 0   PatientID         2596 non-null   object\n",
      " 1   StudyUID          2596 non-null   object\n",
      " 2   View              2596 non-null   object\n",
      " 3   descriptive_path  2596 non-null   object\n",
      " 4   classic_path      2596 non-null   object\n",
      "dtypes: object(5)\n",
      "memory usage: 101.5+ KB\n"
     ]
    }
   ],
   "source": [
    "df_paths.info()"
   ]
  },
  {
   "cell_type": "code",
   "execution_count": 18,
   "metadata": {},
   "outputs": [
    {
     "data": {
      "text/html": [
       "<div>\n",
       "<style scoped>\n",
       "    .dataframe tbody tr th:only-of-type {\n",
       "        vertical-align: middle;\n",
       "    }\n",
       "\n",
       "    .dataframe tbody tr th {\n",
       "        vertical-align: top;\n",
       "    }\n",
       "\n",
       "    .dataframe thead th {\n",
       "        text-align: right;\n",
       "    }\n",
       "</style>\n",
       "<table border=\"1\" class=\"dataframe\">\n",
       "  <thead>\n",
       "    <tr style=\"text-align: right;\">\n",
       "      <th></th>\n",
       "      <th>PatientID</th>\n",
       "      <th>StudyUID</th>\n",
       "      <th>View</th>\n",
       "      <th>descriptive_path</th>\n",
       "      <th>classic_path</th>\n",
       "    </tr>\n",
       "  </thead>\n",
       "  <tbody>\n",
       "    <tr>\n",
       "      <th>0</th>\n",
       "      <td>DBT-P00013</td>\n",
       "      <td>DBT-S00163</td>\n",
       "      <td>rmlo</td>\n",
       "      <td>Breast-Cancer-Screening-DBT/DBT-P00013/01-01-2...</td>\n",
       "      <td>Breast-Cancer-Screening-DBT/DBT-P00013/1.2.826...</td>\n",
       "    </tr>\n",
       "    <tr>\n",
       "      <th>1</th>\n",
       "      <td>DBT-P00023</td>\n",
       "      <td>DBT-S04378</td>\n",
       "      <td>lcc</td>\n",
       "      <td>Breast-Cancer-Screening-DBT/DBT-P00023/01-01-2...</td>\n",
       "      <td>Breast-Cancer-Screening-DBT/DBT-P00023/1.2.826...</td>\n",
       "    </tr>\n",
       "    <tr>\n",
       "      <th>2</th>\n",
       "      <td>DBT-P00023</td>\n",
       "      <td>DBT-S04378</td>\n",
       "      <td>lmlo</td>\n",
       "      <td>Breast-Cancer-Screening-DBT/DBT-P00023/01-01-2...</td>\n",
       "      <td>Breast-Cancer-Screening-DBT/DBT-P00023/1.2.826...</td>\n",
       "    </tr>\n",
       "    <tr>\n",
       "      <th>3</th>\n",
       "      <td>DBT-P00023</td>\n",
       "      <td>DBT-S04378</td>\n",
       "      <td>rcc</td>\n",
       "      <td>Breast-Cancer-Screening-DBT/DBT-P00023/01-01-2...</td>\n",
       "      <td>Breast-Cancer-Screening-DBT/DBT-P00023/1.2.826...</td>\n",
       "    </tr>\n",
       "    <tr>\n",
       "      <th>4</th>\n",
       "      <td>DBT-P00023</td>\n",
       "      <td>DBT-S04378</td>\n",
       "      <td>rmlo</td>\n",
       "      <td>Breast-Cancer-Screening-DBT/DBT-P00023/01-01-2...</td>\n",
       "      <td>Breast-Cancer-Screening-DBT/DBT-P00023/1.2.826...</td>\n",
       "    </tr>\n",
       "  </tbody>\n",
       "</table>\n",
       "</div>"
      ],
      "text/plain": [
       "    PatientID    StudyUID  View  \\\n",
       "0  DBT-P00013  DBT-S00163  rmlo   \n",
       "1  DBT-P00023  DBT-S04378   lcc   \n",
       "2  DBT-P00023  DBT-S04378  lmlo   \n",
       "3  DBT-P00023  DBT-S04378   rcc   \n",
       "4  DBT-P00023  DBT-S04378  rmlo   \n",
       "\n",
       "                                    descriptive_path  \\\n",
       "0  Breast-Cancer-Screening-DBT/DBT-P00013/01-01-2...   \n",
       "1  Breast-Cancer-Screening-DBT/DBT-P00023/01-01-2...   \n",
       "2  Breast-Cancer-Screening-DBT/DBT-P00023/01-01-2...   \n",
       "3  Breast-Cancer-Screening-DBT/DBT-P00023/01-01-2...   \n",
       "4  Breast-Cancer-Screening-DBT/DBT-P00023/01-01-2...   \n",
       "\n",
       "                                        classic_path  \n",
       "0  Breast-Cancer-Screening-DBT/DBT-P00013/1.2.826...  \n",
       "1  Breast-Cancer-Screening-DBT/DBT-P00023/1.2.826...  \n",
       "2  Breast-Cancer-Screening-DBT/DBT-P00023/1.2.826...  \n",
       "3  Breast-Cancer-Screening-DBT/DBT-P00023/1.2.826...  \n",
       "4  Breast-Cancer-Screening-DBT/DBT-P00023/1.2.826...  "
      ]
     },
     "execution_count": 18,
     "metadata": {},
     "output_type": "execute_result"
    }
   ],
   "source": [
    "df_paths.head()"
   ]
  },
  {
   "cell_type": "code",
   "execution_count": 19,
   "metadata": {},
   "outputs": [],
   "source": [
    "df_paths['id'] = df_paths['classic_path'].apply(lambda x: x.split('/')[3])"
   ]
  },
  {
   "cell_type": "code",
   "execution_count": 20,
   "metadata": {},
   "outputs": [
    {
     "data": {
      "text/html": [
       "<div>\n",
       "<style scoped>\n",
       "    .dataframe tbody tr th:only-of-type {\n",
       "        vertical-align: middle;\n",
       "    }\n",
       "\n",
       "    .dataframe tbody tr th {\n",
       "        vertical-align: top;\n",
       "    }\n",
       "\n",
       "    .dataframe thead th {\n",
       "        text-align: right;\n",
       "    }\n",
       "</style>\n",
       "<table border=\"1\" class=\"dataframe\">\n",
       "  <thead>\n",
       "    <tr style=\"text-align: right;\">\n",
       "      <th></th>\n",
       "      <th>PatientID</th>\n",
       "      <th>StudyUID</th>\n",
       "      <th>View</th>\n",
       "      <th>descriptive_path</th>\n",
       "      <th>classic_path</th>\n",
       "      <th>id</th>\n",
       "    </tr>\n",
       "  </thead>\n",
       "  <tbody>\n",
       "    <tr>\n",
       "      <th>0</th>\n",
       "      <td>DBT-P00013</td>\n",
       "      <td>DBT-S00163</td>\n",
       "      <td>rmlo</td>\n",
       "      <td>Breast-Cancer-Screening-DBT/DBT-P00013/01-01-2...</td>\n",
       "      <td>Breast-Cancer-Screening-DBT/DBT-P00013/1.2.826...</td>\n",
       "      <td>1.2.826.0.1.3680043.8.498.97979602815077649368...</td>\n",
       "    </tr>\n",
       "    <tr>\n",
       "      <th>1</th>\n",
       "      <td>DBT-P00023</td>\n",
       "      <td>DBT-S04378</td>\n",
       "      <td>lcc</td>\n",
       "      <td>Breast-Cancer-Screening-DBT/DBT-P00023/01-01-2...</td>\n",
       "      <td>Breast-Cancer-Screening-DBT/DBT-P00023/1.2.826...</td>\n",
       "      <td>1.2.826.0.1.3680043.8.498.12136582480949936067...</td>\n",
       "    </tr>\n",
       "    <tr>\n",
       "      <th>2</th>\n",
       "      <td>DBT-P00023</td>\n",
       "      <td>DBT-S04378</td>\n",
       "      <td>lmlo</td>\n",
       "      <td>Breast-Cancer-Screening-DBT/DBT-P00023/01-01-2...</td>\n",
       "      <td>Breast-Cancer-Screening-DBT/DBT-P00023/1.2.826...</td>\n",
       "      <td>1.2.826.0.1.3680043.8.498.90045035130681803298...</td>\n",
       "    </tr>\n",
       "    <tr>\n",
       "      <th>3</th>\n",
       "      <td>DBT-P00023</td>\n",
       "      <td>DBT-S04378</td>\n",
       "      <td>rcc</td>\n",
       "      <td>Breast-Cancer-Screening-DBT/DBT-P00023/01-01-2...</td>\n",
       "      <td>Breast-Cancer-Screening-DBT/DBT-P00023/1.2.826...</td>\n",
       "      <td>1.2.826.0.1.3680043.8.498.10822555886306795549...</td>\n",
       "    </tr>\n",
       "    <tr>\n",
       "      <th>4</th>\n",
       "      <td>DBT-P00023</td>\n",
       "      <td>DBT-S04378</td>\n",
       "      <td>rmlo</td>\n",
       "      <td>Breast-Cancer-Screening-DBT/DBT-P00023/01-01-2...</td>\n",
       "      <td>Breast-Cancer-Screening-DBT/DBT-P00023/1.2.826...</td>\n",
       "      <td>1.2.826.0.1.3680043.8.498.29938515490857039234...</td>\n",
       "    </tr>\n",
       "  </tbody>\n",
       "</table>\n",
       "</div>"
      ],
      "text/plain": [
       "    PatientID    StudyUID  View  \\\n",
       "0  DBT-P00013  DBT-S00163  rmlo   \n",
       "1  DBT-P00023  DBT-S04378   lcc   \n",
       "2  DBT-P00023  DBT-S04378  lmlo   \n",
       "3  DBT-P00023  DBT-S04378   rcc   \n",
       "4  DBT-P00023  DBT-S04378  rmlo   \n",
       "\n",
       "                                    descriptive_path  \\\n",
       "0  Breast-Cancer-Screening-DBT/DBT-P00013/01-01-2...   \n",
       "1  Breast-Cancer-Screening-DBT/DBT-P00023/01-01-2...   \n",
       "2  Breast-Cancer-Screening-DBT/DBT-P00023/01-01-2...   \n",
       "3  Breast-Cancer-Screening-DBT/DBT-P00023/01-01-2...   \n",
       "4  Breast-Cancer-Screening-DBT/DBT-P00023/01-01-2...   \n",
       "\n",
       "                                        classic_path  \\\n",
       "0  Breast-Cancer-Screening-DBT/DBT-P00013/1.2.826...   \n",
       "1  Breast-Cancer-Screening-DBT/DBT-P00023/1.2.826...   \n",
       "2  Breast-Cancer-Screening-DBT/DBT-P00023/1.2.826...   \n",
       "3  Breast-Cancer-Screening-DBT/DBT-P00023/1.2.826...   \n",
       "4  Breast-Cancer-Screening-DBT/DBT-P00023/1.2.826...   \n",
       "\n",
       "                                                  id  \n",
       "0  1.2.826.0.1.3680043.8.498.97979602815077649368...  \n",
       "1  1.2.826.0.1.3680043.8.498.12136582480949936067...  \n",
       "2  1.2.826.0.1.3680043.8.498.90045035130681803298...  \n",
       "3  1.2.826.0.1.3680043.8.498.10822555886306795549...  \n",
       "4  1.2.826.0.1.3680043.8.498.29938515490857039234...  "
      ]
     },
     "execution_count": 20,
     "metadata": {},
     "output_type": "execute_result"
    }
   ],
   "source": [
    "df_paths.head()"
   ]
  },
  {
   "cell_type": "code",
   "execution_count": 21,
   "metadata": {},
   "outputs": [],
   "source": [
    "# funciton to download DICOM images from \n",
    "def image_download(df, start, end):\n",
    "    for i in range(start, end):\n",
    "        tcia_client.get_image(\n",
    "            seriesInstanceUid = df.iloc[i,5], \n",
    "            file_path = TRAIN_DIR / str(df.iloc[i,3])\n",
    "        )"
   ]
  },
  {
   "cell_type": "code",
   "execution_count": 22,
   "metadata": {},
   "outputs": [],
   "source": [
    "#testing download of first two images\n",
    "image_download(df_paths,0,2)"
   ]
  },
  {
   "cell_type": "code",
   "execution_count": 25,
   "metadata": {},
   "outputs": [],
   "source": [
    "def view_image(df, row):\n",
    "    \n",
    "    view_series = df.iloc[row]\n",
    "    view = view_series[\"View\"]\n",
    "    image_path = TRAIN_DIR / str(view_series[\"descriptive_path\"])\n",
    "    \n",
    "    assert os.path.exists(image_path), 'image does not exist'\n",
    "                    \n",
    "    image = dcmread_image(fp=image_path, view=view)\n",
    "    plt.imshow(image[0], cmap=plt.cm.gray);"
   ]
  },
  {
   "cell_type": "code",
   "execution_count": 26,
   "metadata": {},
   "outputs": [
    {
     "ename": "AssertionError",
     "evalue": "image does not exist",
     "output_type": "error",
     "traceback": [
      "\u001b[0;31m---------------------------------------------------------------------------\u001b[0m",
      "\u001b[0;31mAssertionError\u001b[0m                            Traceback (most recent call last)",
      "\u001b[0;32m<ipython-input-26-b5529ed0b432>\u001b[0m in \u001b[0;36m<module>\u001b[0;34m\u001b[0m\n\u001b[0;32m----> 1\u001b[0;31m \u001b[0mview_image\u001b[0m\u001b[0;34m(\u001b[0m\u001b[0mdf_paths\u001b[0m\u001b[0;34m,\u001b[0m\u001b[0;36m10\u001b[0m\u001b[0;34m)\u001b[0m\u001b[0;34m\u001b[0m\u001b[0;34m\u001b[0m\u001b[0m\n\u001b[0m",
      "\u001b[0;32m<ipython-input-25-6ebeaf7aeb43>\u001b[0m in \u001b[0;36mview_image\u001b[0;34m(df, row)\u001b[0m\n\u001b[1;32m      5\u001b[0m     \u001b[0mimage_path\u001b[0m \u001b[0;34m=\u001b[0m \u001b[0mTRAIN_DIR\u001b[0m \u001b[0;34m/\u001b[0m \u001b[0mstr\u001b[0m\u001b[0;34m(\u001b[0m\u001b[0mview_series\u001b[0m\u001b[0;34m[\u001b[0m\u001b[0;34m\"descriptive_path\"\u001b[0m\u001b[0;34m]\u001b[0m\u001b[0;34m)\u001b[0m\u001b[0;34m\u001b[0m\u001b[0;34m\u001b[0m\u001b[0m\n\u001b[1;32m      6\u001b[0m \u001b[0;34m\u001b[0m\u001b[0m\n\u001b[0;32m----> 7\u001b[0;31m     \u001b[0;32massert\u001b[0m \u001b[0mos\u001b[0m\u001b[0;34m.\u001b[0m\u001b[0mpath\u001b[0m\u001b[0;34m.\u001b[0m\u001b[0mexists\u001b[0m\u001b[0;34m(\u001b[0m\u001b[0mimage_path\u001b[0m\u001b[0;34m)\u001b[0m\u001b[0;34m,\u001b[0m \u001b[0;34m'image does not exist'\u001b[0m\u001b[0;34m\u001b[0m\u001b[0;34m\u001b[0m\u001b[0m\n\u001b[0m\u001b[1;32m      8\u001b[0m \u001b[0;34m\u001b[0m\u001b[0m\n\u001b[1;32m      9\u001b[0m     \u001b[0mimage\u001b[0m \u001b[0;34m=\u001b[0m \u001b[0mdcmread_image\u001b[0m\u001b[0;34m(\u001b[0m\u001b[0mfp\u001b[0m\u001b[0;34m=\u001b[0m\u001b[0mimage_path\u001b[0m\u001b[0;34m,\u001b[0m \u001b[0mview\u001b[0m\u001b[0;34m=\u001b[0m\u001b[0mview\u001b[0m\u001b[0;34m)\u001b[0m\u001b[0;34m\u001b[0m\u001b[0;34m\u001b[0m\u001b[0m\n",
      "\u001b[0;31mAssertionError\u001b[0m: image does not exist"
     ]
    }
   ],
   "source": [
    "view_image(df_paths,10)"
   ]
  },
  {
   "cell_type": "code",
   "execution_count": 13,
   "metadata": {},
   "outputs": [],
   "source": []
  },
  {
   "cell_type": "code",
   "execution_count": 15,
   "metadata": {},
   "outputs": [],
   "source": [
    "response = urllib.request.Request('https://services.cancerimagingarchive.net/services/v4/TCIA/query/getCollectionValues')\n",
    "resp = urllib.request.urlopen(response)\n",
    "resp_json = json.loads(resp.read())\n",
    "df_collections = pd.json_normalize(resp_json)"
   ]
  },
  {
   "cell_type": "code",
   "execution_count": 29,
   "metadata": {},
   "outputs": [
    {
     "data": {
      "text/html": [
       "<div>\n",
       "<style scoped>\n",
       "    .dataframe tbody tr th:only-of-type {\n",
       "        vertical-align: middle;\n",
       "    }\n",
       "\n",
       "    .dataframe tbody tr th {\n",
       "        vertical-align: top;\n",
       "    }\n",
       "\n",
       "    .dataframe thead th {\n",
       "        text-align: right;\n",
       "    }\n",
       "</style>\n",
       "<table border=\"1\" class=\"dataframe\">\n",
       "  <thead>\n",
       "    <tr style=\"text-align: right;\">\n",
       "      <th></th>\n",
       "      <th>Collection</th>\n",
       "    </tr>\n",
       "  </thead>\n",
       "  <tbody>\n",
       "    <tr>\n",
       "      <th>0</th>\n",
       "      <td>TCGA-GBM</td>\n",
       "    </tr>\n",
       "    <tr>\n",
       "      <th>1</th>\n",
       "      <td>LIDC-IDRI</td>\n",
       "    </tr>\n",
       "    <tr>\n",
       "      <th>2</th>\n",
       "      <td>BREAST-DIAGNOSIS</td>\n",
       "    </tr>\n",
       "    <tr>\n",
       "      <th>3</th>\n",
       "      <td>PROSTATE-MRI</td>\n",
       "    </tr>\n",
       "    <tr>\n",
       "      <th>4</th>\n",
       "      <td>PROSTATE-DIAGNOSIS</td>\n",
       "    </tr>\n",
       "    <tr>\n",
       "      <th>...</th>\n",
       "      <td>...</td>\n",
       "    </tr>\n",
       "    <tr>\n",
       "      <th>101</th>\n",
       "      <td>PDMR-292921-168-R</td>\n",
       "    </tr>\n",
       "    <tr>\n",
       "      <th>102</th>\n",
       "      <td>Prostate-MRI-US-Biopsy</td>\n",
       "    </tr>\n",
       "    <tr>\n",
       "      <th>103</th>\n",
       "      <td>DRO-Toolkit</td>\n",
       "    </tr>\n",
       "    <tr>\n",
       "      <th>104</th>\n",
       "      <td>COVID-19</td>\n",
       "    </tr>\n",
       "    <tr>\n",
       "      <th>105</th>\n",
       "      <td>COVID-19-AR</td>\n",
       "    </tr>\n",
       "  </tbody>\n",
       "</table>\n",
       "<p>106 rows × 1 columns</p>\n",
       "</div>"
      ],
      "text/plain": [
       "                 Collection\n",
       "0                  TCGA-GBM\n",
       "1                 LIDC-IDRI\n",
       "2          BREAST-DIAGNOSIS\n",
       "3              PROSTATE-MRI\n",
       "4        PROSTATE-DIAGNOSIS\n",
       "..                      ...\n",
       "101       PDMR-292921-168-R\n",
       "102  Prostate-MRI-US-Biopsy\n",
       "103             DRO-Toolkit\n",
       "104                COVID-19\n",
       "105             COVID-19-AR\n",
       "\n",
       "[106 rows x 1 columns]"
      ]
     },
     "execution_count": 29,
     "metadata": {},
     "output_type": "execute_result"
    }
   ],
   "source": [
    "df_collections"
   ]
  },
  {
   "cell_type": "code",
   "execution_count": 28,
   "metadata": {},
   "outputs": [
    {
     "data": {
      "text/html": [
       "<div>\n",
       "<style scoped>\n",
       "    .dataframe tbody tr th:only-of-type {\n",
       "        vertical-align: middle;\n",
       "    }\n",
       "\n",
       "    .dataframe tbody tr th {\n",
       "        vertical-align: top;\n",
       "    }\n",
       "\n",
       "    .dataframe thead th {\n",
       "        text-align: right;\n",
       "    }\n",
       "</style>\n",
       "<table border=\"1\" class=\"dataframe\">\n",
       "  <thead>\n",
       "    <tr style=\"text-align: right;\">\n",
       "      <th></th>\n",
       "      <th>Collection</th>\n",
       "    </tr>\n",
       "  </thead>\n",
       "  <tbody>\n",
       "    <tr>\n",
       "      <th>8</th>\n",
       "      <td>RIDER Breast MRI</td>\n",
       "    </tr>\n",
       "    <tr>\n",
       "      <th>39</th>\n",
       "      <td>QIN Breast DCE-MRI</td>\n",
       "    </tr>\n",
       "    <tr>\n",
       "      <th>57</th>\n",
       "      <td>Breast-MRI-NACT-Pilot</td>\n",
       "    </tr>\n",
       "    <tr>\n",
       "      <th>67</th>\n",
       "      <td>ACRIN-FLT-Breast</td>\n",
       "    </tr>\n",
       "  </tbody>\n",
       "</table>\n",
       "</div>"
      ],
      "text/plain": [
       "               Collection\n",
       "8        RIDER Breast MRI\n",
       "39     QIN Breast DCE-MRI\n",
       "57  Breast-MRI-NACT-Pilot\n",
       "67       ACRIN-FLT-Breast"
      ]
     },
     "execution_count": 28,
     "metadata": {},
     "output_type": "execute_result"
    }
   ],
   "source": [
    "mask = ['Breast' in x for x in df_collections['Collection']]\n",
    "df_collections[mask]"
   ]
  },
  {
   "cell_type": "code",
   "execution_count": null,
   "metadata": {},
   "outputs": [],
   "source": [
    "Breast-Cancer-Screening-DBT\tDBT-P00029\t1.2.826.0.1.3680043.8.498.10501549244263206170119288752475799160\t1.2.826.0.1.3680043.8.498.63435394700083659941067595830930930080\t59.8 MB\t1\t0.0\tNot Started"
   ]
  },
  {
   "cell_type": "code",
   "execution_count": 34,
   "metadata": {},
   "outputs": [],
   "source": [
    "response2 = urllib.request.Request('https://services.cancerimagingarchive.net/services/v4/TCIA/query/getPatientStudy?PatientID=DBT-P00029')\n",
    "resp2 = urllib.request.urlopen(response)\n"
   ]
  },
  {
   "cell_type": "code",
   "execution_count": 32,
   "metadata": {},
   "outputs": [
    {
     "data": {
      "text/plain": [
       "200"
      ]
     },
     "execution_count": 32,
     "metadata": {},
     "output_type": "execute_result"
    }
   ],
   "source": [
    "resp2.getcode()"
   ]
  },
  {
   "cell_type": "code",
   "execution_count": 35,
   "metadata": {},
   "outputs": [
    {
     "data": {
      "text/plain": [
       "b'[]'"
      ]
     },
     "execution_count": 35,
     "metadata": {},
     "output_type": "execute_result"
    }
   ],
   "source": [
    "resp2.read()"
   ]
  },
  {
   "cell_type": "code",
   "execution_count": null,
   "metadata": {},
   "outputs": [],
   "source": []
  }
 ],
 "metadata": {
  "kernelspec": {
   "display_name": "Python 3",
   "language": "python",
   "name": "python3"
  },
  "language_info": {
   "codemirror_mode": {
    "name": "ipython",
    "version": 3
   },
   "file_extension": ".py",
   "mimetype": "text/x-python",
   "name": "python",
   "nbconvert_exporter": "python",
   "pygments_lexer": "ipython3",
   "version": "3.8.5"
  }
 },
 "nbformat": 4,
 "nbformat_minor": 4
}
