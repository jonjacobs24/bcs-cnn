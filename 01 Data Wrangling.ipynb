{
 "cells": [
  {
   "cell_type": "code",
   "execution_count": 26,
   "metadata": {},
   "outputs": [],
   "source": [
    "from helper_tools .tciaclient import TCIAClient\n",
    "from helper_tools.dicom_tools import dcmread_image\n",
    "\n",
    "from config import config\n",
    "\n",
    "import pandas as pd\n",
    "import numpy as np\n",
    "import os\n",
    "%matplotlib inline\n",
    "import matplotlib.pyplot as plt\n",
    "import json\n",
    "import sys\n",
    "import math\n",
    "import errno\n",
    "import pydicom as dicom\n",
    "import urllib.request, urllib.error, urllib.parse, urllib.request, urllib.parse, urllib.error,sys\n",
    "\n",
    "\n",
    "\n"
   ]
  },
  {
   "cell_type": "code",
   "execution_count": 27,
   "metadata": {},
   "outputs": [],
   "source": [
    "#directories for data and other files\n",
    "\n",
    "PACKAGE_ROOT = config.PACKAGE_ROOT\n",
    "TRAIN_DIR = config.TRAIN_DIR\n",
    "TEST_DIR = config.TEST_DIR\n"
   ]
  },
  {
   "cell_type": "code",
   "execution_count": 28,
   "metadata": {},
   "outputs": [],
   "source": [
    "#initializing tcia api client for easy queries\n",
    "tcia_client = TCIAClient(baseUrl=\"https://services.cancerimagingarchive.net/services/v4\",resource = \"TCIA\")"
   ]
  },
  {
   "cell_type": "code",
   "execution_count": 29,
   "metadata": {},
   "outputs": [],
   "source": [
    "#reading in metadata including file paths\n",
    "df_paths = pd.read_csv(TRAIN_DIR / 'file-paths-train.csv')"
   ]
  },
  {
   "cell_type": "code",
   "execution_count": 30,
   "metadata": {},
   "outputs": [
    {
     "name": "stdout",
     "output_type": "stream",
     "text": [
      "<class 'pandas.core.frame.DataFrame'>\n",
      "RangeIndex: 2596 entries, 0 to 2595\n",
      "Data columns (total 5 columns):\n",
      " #   Column            Non-Null Count  Dtype \n",
      "---  ------            --------------  ----- \n",
      " 0   PatientID         2596 non-null   object\n",
      " 1   StudyUID          2596 non-null   object\n",
      " 2   View              2596 non-null   object\n",
      " 3   descriptive_path  2596 non-null   object\n",
      " 4   classic_path      2596 non-null   object\n",
      "dtypes: object(5)\n",
      "memory usage: 101.5+ KB\n"
     ]
    }
   ],
   "source": [
    "df_paths.info()"
   ]
  },
  {
   "cell_type": "code",
   "execution_count": 31,
   "metadata": {},
   "outputs": [
    {
     "data": {
      "text/html": [
       "<div>\n",
       "<style scoped>\n",
       "    .dataframe tbody tr th:only-of-type {\n",
       "        vertical-align: middle;\n",
       "    }\n",
       "\n",
       "    .dataframe tbody tr th {\n",
       "        vertical-align: top;\n",
       "    }\n",
       "\n",
       "    .dataframe thead th {\n",
       "        text-align: right;\n",
       "    }\n",
       "</style>\n",
       "<table border=\"1\" class=\"dataframe\">\n",
       "  <thead>\n",
       "    <tr style=\"text-align: right;\">\n",
       "      <th></th>\n",
       "      <th>PatientID</th>\n",
       "      <th>StudyUID</th>\n",
       "      <th>View</th>\n",
       "      <th>descriptive_path</th>\n",
       "      <th>classic_path</th>\n",
       "    </tr>\n",
       "  </thead>\n",
       "  <tbody>\n",
       "    <tr>\n",
       "      <th>0</th>\n",
       "      <td>DBT-P00013</td>\n",
       "      <td>DBT-S00163</td>\n",
       "      <td>rmlo</td>\n",
       "      <td>Breast-Cancer-Screening-DBT/DBT-P00013/01-01-2...</td>\n",
       "      <td>Breast-Cancer-Screening-DBT/DBT-P00013/1.2.826...</td>\n",
       "    </tr>\n",
       "    <tr>\n",
       "      <th>1</th>\n",
       "      <td>DBT-P00023</td>\n",
       "      <td>DBT-S04378</td>\n",
       "      <td>lcc</td>\n",
       "      <td>Breast-Cancer-Screening-DBT/DBT-P00023/01-01-2...</td>\n",
       "      <td>Breast-Cancer-Screening-DBT/DBT-P00023/1.2.826...</td>\n",
       "    </tr>\n",
       "    <tr>\n",
       "      <th>2</th>\n",
       "      <td>DBT-P00023</td>\n",
       "      <td>DBT-S04378</td>\n",
       "      <td>lmlo</td>\n",
       "      <td>Breast-Cancer-Screening-DBT/DBT-P00023/01-01-2...</td>\n",
       "      <td>Breast-Cancer-Screening-DBT/DBT-P00023/1.2.826...</td>\n",
       "    </tr>\n",
       "    <tr>\n",
       "      <th>3</th>\n",
       "      <td>DBT-P00023</td>\n",
       "      <td>DBT-S04378</td>\n",
       "      <td>rcc</td>\n",
       "      <td>Breast-Cancer-Screening-DBT/DBT-P00023/01-01-2...</td>\n",
       "      <td>Breast-Cancer-Screening-DBT/DBT-P00023/1.2.826...</td>\n",
       "    </tr>\n",
       "    <tr>\n",
       "      <th>4</th>\n",
       "      <td>DBT-P00023</td>\n",
       "      <td>DBT-S04378</td>\n",
       "      <td>rmlo</td>\n",
       "      <td>Breast-Cancer-Screening-DBT/DBT-P00023/01-01-2...</td>\n",
       "      <td>Breast-Cancer-Screening-DBT/DBT-P00023/1.2.826...</td>\n",
       "    </tr>\n",
       "  </tbody>\n",
       "</table>\n",
       "</div>"
      ],
      "text/plain": [
       "    PatientID    StudyUID  View  \\\n",
       "0  DBT-P00013  DBT-S00163  rmlo   \n",
       "1  DBT-P00023  DBT-S04378   lcc   \n",
       "2  DBT-P00023  DBT-S04378  lmlo   \n",
       "3  DBT-P00023  DBT-S04378   rcc   \n",
       "4  DBT-P00023  DBT-S04378  rmlo   \n",
       "\n",
       "                                    descriptive_path  \\\n",
       "0  Breast-Cancer-Screening-DBT/DBT-P00013/01-01-2...   \n",
       "1  Breast-Cancer-Screening-DBT/DBT-P00023/01-01-2...   \n",
       "2  Breast-Cancer-Screening-DBT/DBT-P00023/01-01-2...   \n",
       "3  Breast-Cancer-Screening-DBT/DBT-P00023/01-01-2...   \n",
       "4  Breast-Cancer-Screening-DBT/DBT-P00023/01-01-2...   \n",
       "\n",
       "                                        classic_path  \n",
       "0  Breast-Cancer-Screening-DBT/DBT-P00013/1.2.826...  \n",
       "1  Breast-Cancer-Screening-DBT/DBT-P00023/1.2.826...  \n",
       "2  Breast-Cancer-Screening-DBT/DBT-P00023/1.2.826...  \n",
       "3  Breast-Cancer-Screening-DBT/DBT-P00023/1.2.826...  \n",
       "4  Breast-Cancer-Screening-DBT/DBT-P00023/1.2.826...  "
      ]
     },
     "execution_count": 31,
     "metadata": {},
     "output_type": "execute_result"
    }
   ],
   "source": [
    "df_paths.head()"
   ]
  },
  {
   "cell_type": "code",
   "execution_count": 32,
   "metadata": {},
   "outputs": [],
   "source": [
    "df_paths['id'] = df_paths['classic_path'].apply(lambda x: x.split('/')[3])"
   ]
  },
  {
   "cell_type": "code",
   "execution_count": 33,
   "metadata": {},
   "outputs": [
    {
     "data": {
      "text/html": [
       "<div>\n",
       "<style scoped>\n",
       "    .dataframe tbody tr th:only-of-type {\n",
       "        vertical-align: middle;\n",
       "    }\n",
       "\n",
       "    .dataframe tbody tr th {\n",
       "        vertical-align: top;\n",
       "    }\n",
       "\n",
       "    .dataframe thead th {\n",
       "        text-align: right;\n",
       "    }\n",
       "</style>\n",
       "<table border=\"1\" class=\"dataframe\">\n",
       "  <thead>\n",
       "    <tr style=\"text-align: right;\">\n",
       "      <th></th>\n",
       "      <th>PatientID</th>\n",
       "      <th>StudyUID</th>\n",
       "      <th>View</th>\n",
       "      <th>descriptive_path</th>\n",
       "      <th>classic_path</th>\n",
       "      <th>id</th>\n",
       "    </tr>\n",
       "  </thead>\n",
       "  <tbody>\n",
       "    <tr>\n",
       "      <th>0</th>\n",
       "      <td>DBT-P00013</td>\n",
       "      <td>DBT-S00163</td>\n",
       "      <td>rmlo</td>\n",
       "      <td>Breast-Cancer-Screening-DBT/DBT-P00013/01-01-2...</td>\n",
       "      <td>Breast-Cancer-Screening-DBT/DBT-P00013/1.2.826...</td>\n",
       "      <td>1.2.826.0.1.3680043.8.498.97979602815077649368...</td>\n",
       "    </tr>\n",
       "    <tr>\n",
       "      <th>1</th>\n",
       "      <td>DBT-P00023</td>\n",
       "      <td>DBT-S04378</td>\n",
       "      <td>lcc</td>\n",
       "      <td>Breast-Cancer-Screening-DBT/DBT-P00023/01-01-2...</td>\n",
       "      <td>Breast-Cancer-Screening-DBT/DBT-P00023/1.2.826...</td>\n",
       "      <td>1.2.826.0.1.3680043.8.498.12136582480949936067...</td>\n",
       "    </tr>\n",
       "    <tr>\n",
       "      <th>2</th>\n",
       "      <td>DBT-P00023</td>\n",
       "      <td>DBT-S04378</td>\n",
       "      <td>lmlo</td>\n",
       "      <td>Breast-Cancer-Screening-DBT/DBT-P00023/01-01-2...</td>\n",
       "      <td>Breast-Cancer-Screening-DBT/DBT-P00023/1.2.826...</td>\n",
       "      <td>1.2.826.0.1.3680043.8.498.90045035130681803298...</td>\n",
       "    </tr>\n",
       "    <tr>\n",
       "      <th>3</th>\n",
       "      <td>DBT-P00023</td>\n",
       "      <td>DBT-S04378</td>\n",
       "      <td>rcc</td>\n",
       "      <td>Breast-Cancer-Screening-DBT/DBT-P00023/01-01-2...</td>\n",
       "      <td>Breast-Cancer-Screening-DBT/DBT-P00023/1.2.826...</td>\n",
       "      <td>1.2.826.0.1.3680043.8.498.10822555886306795549...</td>\n",
       "    </tr>\n",
       "    <tr>\n",
       "      <th>4</th>\n",
       "      <td>DBT-P00023</td>\n",
       "      <td>DBT-S04378</td>\n",
       "      <td>rmlo</td>\n",
       "      <td>Breast-Cancer-Screening-DBT/DBT-P00023/01-01-2...</td>\n",
       "      <td>Breast-Cancer-Screening-DBT/DBT-P00023/1.2.826...</td>\n",
       "      <td>1.2.826.0.1.3680043.8.498.29938515490857039234...</td>\n",
       "    </tr>\n",
       "  </tbody>\n",
       "</table>\n",
       "</div>"
      ],
      "text/plain": [
       "    PatientID    StudyUID  View  \\\n",
       "0  DBT-P00013  DBT-S00163  rmlo   \n",
       "1  DBT-P00023  DBT-S04378   lcc   \n",
       "2  DBT-P00023  DBT-S04378  lmlo   \n",
       "3  DBT-P00023  DBT-S04378   rcc   \n",
       "4  DBT-P00023  DBT-S04378  rmlo   \n",
       "\n",
       "                                    descriptive_path  \\\n",
       "0  Breast-Cancer-Screening-DBT/DBT-P00013/01-01-2...   \n",
       "1  Breast-Cancer-Screening-DBT/DBT-P00023/01-01-2...   \n",
       "2  Breast-Cancer-Screening-DBT/DBT-P00023/01-01-2...   \n",
       "3  Breast-Cancer-Screening-DBT/DBT-P00023/01-01-2...   \n",
       "4  Breast-Cancer-Screening-DBT/DBT-P00023/01-01-2...   \n",
       "\n",
       "                                        classic_path  \\\n",
       "0  Breast-Cancer-Screening-DBT/DBT-P00013/1.2.826...   \n",
       "1  Breast-Cancer-Screening-DBT/DBT-P00023/1.2.826...   \n",
       "2  Breast-Cancer-Screening-DBT/DBT-P00023/1.2.826...   \n",
       "3  Breast-Cancer-Screening-DBT/DBT-P00023/1.2.826...   \n",
       "4  Breast-Cancer-Screening-DBT/DBT-P00023/1.2.826...   \n",
       "\n",
       "                                                  id  \n",
       "0  1.2.826.0.1.3680043.8.498.97979602815077649368...  \n",
       "1  1.2.826.0.1.3680043.8.498.12136582480949936067...  \n",
       "2  1.2.826.0.1.3680043.8.498.90045035130681803298...  \n",
       "3  1.2.826.0.1.3680043.8.498.10822555886306795549...  \n",
       "4  1.2.826.0.1.3680043.8.498.29938515490857039234...  "
      ]
     },
     "execution_count": 33,
     "metadata": {},
     "output_type": "execute_result"
    }
   ],
   "source": [
    "df_paths.head()"
   ]
  },
  {
   "cell_type": "code",
   "execution_count": 34,
   "metadata": {},
   "outputs": [],
   "source": [
    "# funciton to download DICOM images from \n",
    "def image_download(df, start, end):\n",
    "    for i in range(start, end):\n",
    "        tcia_client.get_image(\n",
    "            seriesInstanceUid = df.iloc[i,5], \n",
    "            file_path = TRAIN_DIR / str(df.iloc[i,3])\n",
    "        )"
   ]
  },
  {
   "cell_type": "code",
   "execution_count": 35,
   "metadata": {},
   "outputs": [],
   "source": [
    "#testing download of first two images\n",
    "#image_download(df_paths,0,2)"
   ]
  },
  {
   "cell_type": "code",
   "execution_count": 36,
   "metadata": {},
   "outputs": [],
   "source": [
    "def view_image(df, row):\n",
    "\n",
    "    view_series = df.iloc[row]\n",
    "    view = view_series[\"View\"]\n",
    "    image_path = TRAIN_DIR / str(view_series[\"descriptive_path\"])\n",
    "    \n",
    "    #assert os.path.exists(image_path), 'image does not exist'\n",
    "                    \n",
    "    image = dcmread_image(fp=image_path, view=view)\n",
    "    return image\n",
    "\n",
    "def path_exists(df,row):\n",
    "    view_series = df.iloc[row]\n",
    "    view = view_series[\"View\"]\n",
    "    image_path = TRAIN_DIR / str(view_series[\"descriptive_path\"])\n",
    "    return os.path.exists(image_path)"
   ]
  },
  {
   "cell_type": "code",
   "execution_count": 38,
   "metadata": {},
   "outputs": [],
   "source": [
    "#image = view_image(df_paths,10)"
   ]
  },
  {
   "cell_type": "code",
   "execution_count": 39,
   "metadata": {},
   "outputs": [
    {
     "data": {
      "text/plain": [
       "(65, 2457, 1890)"
      ]
     },
     "execution_count": 39,
     "metadata": {},
     "output_type": "execute_result"
    }
   ],
   "source": [
    "image.shape"
   ]
  },
  {
   "cell_type": "code",
   "execution_count": 40,
   "metadata": {},
   "outputs": [],
   "source": [
    "import matplotlib.animation as animation\n",
    "import ffmpeg"
   ]
  },
  {
   "cell_type": "code",
   "execution_count": 45,
   "metadata": {},
   "outputs": [],
   "source": [
    "# fig = plt.figure()\n",
    "# ims = []\n",
    "# for i in range(image.shape[0]):\n",
    "#     im = plt.imshow(image[i], cmap=plt.cm.gray, animated = True)\n",
    "#     ims.append([im])\n",
    "    \n",
    "# ani = animation.ArtistAnimation(fig, ims, interval=200,repeat_delay=1000)\n",
    "\n",
    "# plt.show()\n"
   ]
  },
  {
   "cell_type": "code",
   "execution_count": null,
   "metadata": {},
   "outputs": [],
   "source": [
    "\n",
    "\n"
   ]
  },
  {
   "cell_type": "code",
   "execution_count": 46,
   "metadata": {},
   "outputs": [],
   "source": [
    "# response = urllib.request.Request('https://services.cancerimagingarchive.net/services/v4/TCIA/query/getCollectionValues')\n",
    "# resp = urllib.request.urlopen(response)\n",
    "# resp_json = json.loads(resp.read())\n",
    "# df_collections = pd.json_normalize(resp_json)\n",
    "# df_collections\n",
    "# mask = ['Breast' in x for x in df_collections['Collection']]\n",
    "# df_collections[mask]\n",
    "# response2 = urllib.request.Request('https://services.cancerimagingarchive.net/services/v4/TCIA/query/getPatientStudy?PatientID=DBT-P00029')\n",
    "# resp2 = urllib.request.urlopen(response)\n"
   ]
  },
  {
   "cell_type": "code",
   "execution_count": 47,
   "metadata": {},
   "outputs": [],
   "source": []
  },
  {
   "cell_type": "code",
   "execution_count": 48,
   "metadata": {},
   "outputs": [
    {
     "ename": "ModuleNotFoundError",
     "evalue": "No module named 'keras'",
     "output_type": "error",
     "traceback": [
      "\u001b[0;31m---------------------------------------------------------------------------\u001b[0m",
      "\u001b[0;31mModuleNotFoundError\u001b[0m                       Traceback (most recent call last)",
      "\u001b[0;32m<ipython-input-48-e19d8dc24430>\u001b[0m in \u001b[0;36m<module>\u001b[0;34m\u001b[0m\n\u001b[0;32m----> 1\u001b[0;31m \u001b[0;32mfrom\u001b[0m \u001b[0mkeras\u001b[0m\u001b[0;34m.\u001b[0m\u001b[0mlayers\u001b[0m \u001b[0;32mimport\u001b[0m \u001b[0mConv2D\u001b[0m\u001b[0;34m,\u001b[0m \u001b[0mMaxPooling2D\u001b[0m\u001b[0;34m,\u001b[0m \u001b[0mFlatten\u001b[0m\u001b[0;34m,\u001b[0m\u001b[0mDense\u001b[0m\u001b[0;34m\u001b[0m\u001b[0;34m\u001b[0m\u001b[0m\n\u001b[0m\u001b[1;32m      2\u001b[0m \u001b[0;32mfrom\u001b[0m \u001b[0mkeras\u001b[0m\u001b[0;34m.\u001b[0m\u001b[0mmodels\u001b[0m \u001b[0;32mimport\u001b[0m \u001b[0mSequential\u001b[0m\u001b[0;34m\u001b[0m\u001b[0;34m\u001b[0m\u001b[0m\n\u001b[1;32m      3\u001b[0m \u001b[0;32mfrom\u001b[0m \u001b[0mkeras\u001b[0m\u001b[0;34m.\u001b[0m\u001b[0mdatasets\u001b[0m \u001b[0;32mimport\u001b[0m \u001b[0mmnist\u001b[0m\u001b[0;34m\u001b[0m\u001b[0;34m\u001b[0m\u001b[0m\n\u001b[1;32m      4\u001b[0m \u001b[0;32mfrom\u001b[0m \u001b[0mkeras\u001b[0m\u001b[0;34m.\u001b[0m\u001b[0mutils\u001b[0m \u001b[0;32mimport\u001b[0m \u001b[0mto_categorical\u001b[0m\u001b[0;34m\u001b[0m\u001b[0;34m\u001b[0m\u001b[0m\n",
      "\u001b[0;31mModuleNotFoundError\u001b[0m: No module named 'keras'"
     ]
    }
   ],
   "source": [
    "from keras.layers import Conv2D, MaxPooling2D, Flatten,Dense\n",
    "from keras.models import Sequential\n",
    "from keras.datasets import mnist\n",
    "from keras.utils import to_categorical"
   ]
  },
  {
   "cell_type": "code",
   "execution_count": 49,
   "metadata": {},
   "outputs": [],
   "source": [
    "df_target_train = pd.read_csv(TRAIN_DIR / 'BCS-DBT labels-train.csv')"
   ]
  },
  {
   "cell_type": "code",
   "execution_count": 53,
   "metadata": {},
   "outputs": [
    {
     "data": {
      "text/html": [
       "<div>\n",
       "<style scoped>\n",
       "    .dataframe tbody tr th:only-of-type {\n",
       "        vertical-align: middle;\n",
       "    }\n",
       "\n",
       "    .dataframe tbody tr th {\n",
       "        vertical-align: top;\n",
       "    }\n",
       "\n",
       "    .dataframe thead th {\n",
       "        text-align: right;\n",
       "    }\n",
       "</style>\n",
       "<table border=\"1\" class=\"dataframe\">\n",
       "  <thead>\n",
       "    <tr style=\"text-align: right;\">\n",
       "      <th></th>\n",
       "      <th>PatientID</th>\n",
       "      <th>StudyUID</th>\n",
       "      <th>View</th>\n",
       "      <th>Normal</th>\n",
       "      <th>Actionable</th>\n",
       "      <th>Benign</th>\n",
       "      <th>Cancer</th>\n",
       "    </tr>\n",
       "  </thead>\n",
       "  <tbody>\n",
       "    <tr>\n",
       "      <th>0</th>\n",
       "      <td>DBT-P00013</td>\n",
       "      <td>DBT-S00163</td>\n",
       "      <td>rmlo</td>\n",
       "      <td>0</td>\n",
       "      <td>0</td>\n",
       "      <td>1</td>\n",
       "      <td>0</td>\n",
       "    </tr>\n",
       "    <tr>\n",
       "      <th>1</th>\n",
       "      <td>DBT-P00023</td>\n",
       "      <td>DBT-S04378</td>\n",
       "      <td>lcc</td>\n",
       "      <td>0</td>\n",
       "      <td>1</td>\n",
       "      <td>0</td>\n",
       "      <td>0</td>\n",
       "    </tr>\n",
       "    <tr>\n",
       "      <th>2</th>\n",
       "      <td>DBT-P00023</td>\n",
       "      <td>DBT-S04378</td>\n",
       "      <td>lmlo</td>\n",
       "      <td>0</td>\n",
       "      <td>1</td>\n",
       "      <td>0</td>\n",
       "      <td>0</td>\n",
       "    </tr>\n",
       "    <tr>\n",
       "      <th>3</th>\n",
       "      <td>DBT-P00023</td>\n",
       "      <td>DBT-S04378</td>\n",
       "      <td>rcc</td>\n",
       "      <td>0</td>\n",
       "      <td>1</td>\n",
       "      <td>0</td>\n",
       "      <td>0</td>\n",
       "    </tr>\n",
       "    <tr>\n",
       "      <th>4</th>\n",
       "      <td>DBT-P00023</td>\n",
       "      <td>DBT-S04378</td>\n",
       "      <td>rmlo</td>\n",
       "      <td>0</td>\n",
       "      <td>1</td>\n",
       "      <td>0</td>\n",
       "      <td>0</td>\n",
       "    </tr>\n",
       "  </tbody>\n",
       "</table>\n",
       "</div>"
      ],
      "text/plain": [
       "    PatientID    StudyUID  View  Normal  Actionable  Benign  Cancer\n",
       "0  DBT-P00013  DBT-S00163  rmlo       0           0       1       0\n",
       "1  DBT-P00023  DBT-S04378   lcc       0           1       0       0\n",
       "2  DBT-P00023  DBT-S04378  lmlo       0           1       0       0\n",
       "3  DBT-P00023  DBT-S04378   rcc       0           1       0       0\n",
       "4  DBT-P00023  DBT-S04378  rmlo       0           1       0       0"
      ]
     },
     "execution_count": 53,
     "metadata": {},
     "output_type": "execute_result"
    }
   ],
   "source": [
    "df_target_train.head()"
   ]
  },
  {
   "cell_type": "code",
   "execution_count": 54,
   "metadata": {},
   "outputs": [],
   "source": [
    "df_paths = df_paths.merge(df_target_train.drop(['StudyUID','View'],axis=1), on='PatientID')"
   ]
  },
  {
   "cell_type": "code",
   "execution_count": 55,
   "metadata": {},
   "outputs": [
    {
     "data": {
      "text/html": [
       "<div>\n",
       "<style scoped>\n",
       "    .dataframe tbody tr th:only-of-type {\n",
       "        vertical-align: middle;\n",
       "    }\n",
       "\n",
       "    .dataframe tbody tr th {\n",
       "        vertical-align: top;\n",
       "    }\n",
       "\n",
       "    .dataframe thead th {\n",
       "        text-align: right;\n",
       "    }\n",
       "</style>\n",
       "<table border=\"1\" class=\"dataframe\">\n",
       "  <thead>\n",
       "    <tr style=\"text-align: right;\">\n",
       "      <th></th>\n",
       "      <th>PatientID</th>\n",
       "      <th>StudyUID</th>\n",
       "      <th>View</th>\n",
       "      <th>descriptive_path</th>\n",
       "      <th>classic_path</th>\n",
       "      <th>id</th>\n",
       "      <th>Normal</th>\n",
       "      <th>Actionable</th>\n",
       "      <th>Benign</th>\n",
       "      <th>Cancer</th>\n",
       "    </tr>\n",
       "  </thead>\n",
       "  <tbody>\n",
       "    <tr>\n",
       "      <th>0</th>\n",
       "      <td>DBT-P00013</td>\n",
       "      <td>DBT-S00163</td>\n",
       "      <td>rmlo</td>\n",
       "      <td>Breast-Cancer-Screening-DBT/DBT-P00013/01-01-2...</td>\n",
       "      <td>Breast-Cancer-Screening-DBT/DBT-P00013/1.2.826...</td>\n",
       "      <td>1.2.826.0.1.3680043.8.498.97979602815077649368...</td>\n",
       "      <td>0</td>\n",
       "      <td>0</td>\n",
       "      <td>1</td>\n",
       "      <td>0</td>\n",
       "    </tr>\n",
       "    <tr>\n",
       "      <th>1</th>\n",
       "      <td>DBT-P00023</td>\n",
       "      <td>DBT-S04378</td>\n",
       "      <td>lcc</td>\n",
       "      <td>Breast-Cancer-Screening-DBT/DBT-P00023/01-01-2...</td>\n",
       "      <td>Breast-Cancer-Screening-DBT/DBT-P00023/1.2.826...</td>\n",
       "      <td>1.2.826.0.1.3680043.8.498.12136582480949936067...</td>\n",
       "      <td>0</td>\n",
       "      <td>1</td>\n",
       "      <td>0</td>\n",
       "      <td>0</td>\n",
       "    </tr>\n",
       "    <tr>\n",
       "      <th>2</th>\n",
       "      <td>DBT-P00023</td>\n",
       "      <td>DBT-S04378</td>\n",
       "      <td>lcc</td>\n",
       "      <td>Breast-Cancer-Screening-DBT/DBT-P00023/01-01-2...</td>\n",
       "      <td>Breast-Cancer-Screening-DBT/DBT-P00023/1.2.826...</td>\n",
       "      <td>1.2.826.0.1.3680043.8.498.12136582480949936067...</td>\n",
       "      <td>0</td>\n",
       "      <td>1</td>\n",
       "      <td>0</td>\n",
       "      <td>0</td>\n",
       "    </tr>\n",
       "    <tr>\n",
       "      <th>3</th>\n",
       "      <td>DBT-P00023</td>\n",
       "      <td>DBT-S04378</td>\n",
       "      <td>lcc</td>\n",
       "      <td>Breast-Cancer-Screening-DBT/DBT-P00023/01-01-2...</td>\n",
       "      <td>Breast-Cancer-Screening-DBT/DBT-P00023/1.2.826...</td>\n",
       "      <td>1.2.826.0.1.3680043.8.498.12136582480949936067...</td>\n",
       "      <td>0</td>\n",
       "      <td>1</td>\n",
       "      <td>0</td>\n",
       "      <td>0</td>\n",
       "    </tr>\n",
       "    <tr>\n",
       "      <th>4</th>\n",
       "      <td>DBT-P00023</td>\n",
       "      <td>DBT-S04378</td>\n",
       "      <td>lcc</td>\n",
       "      <td>Breast-Cancer-Screening-DBT/DBT-P00023/01-01-2...</td>\n",
       "      <td>Breast-Cancer-Screening-DBT/DBT-P00023/1.2.826...</td>\n",
       "      <td>1.2.826.0.1.3680043.8.498.12136582480949936067...</td>\n",
       "      <td>0</td>\n",
       "      <td>1</td>\n",
       "      <td>0</td>\n",
       "      <td>0</td>\n",
       "    </tr>\n",
       "  </tbody>\n",
       "</table>\n",
       "</div>"
      ],
      "text/plain": [
       "    PatientID    StudyUID  View  \\\n",
       "0  DBT-P00013  DBT-S00163  rmlo   \n",
       "1  DBT-P00023  DBT-S04378   lcc   \n",
       "2  DBT-P00023  DBT-S04378   lcc   \n",
       "3  DBT-P00023  DBT-S04378   lcc   \n",
       "4  DBT-P00023  DBT-S04378   lcc   \n",
       "\n",
       "                                    descriptive_path  \\\n",
       "0  Breast-Cancer-Screening-DBT/DBT-P00013/01-01-2...   \n",
       "1  Breast-Cancer-Screening-DBT/DBT-P00023/01-01-2...   \n",
       "2  Breast-Cancer-Screening-DBT/DBT-P00023/01-01-2...   \n",
       "3  Breast-Cancer-Screening-DBT/DBT-P00023/01-01-2...   \n",
       "4  Breast-Cancer-Screening-DBT/DBT-P00023/01-01-2...   \n",
       "\n",
       "                                        classic_path  \\\n",
       "0  Breast-Cancer-Screening-DBT/DBT-P00013/1.2.826...   \n",
       "1  Breast-Cancer-Screening-DBT/DBT-P00023/1.2.826...   \n",
       "2  Breast-Cancer-Screening-DBT/DBT-P00023/1.2.826...   \n",
       "3  Breast-Cancer-Screening-DBT/DBT-P00023/1.2.826...   \n",
       "4  Breast-Cancer-Screening-DBT/DBT-P00023/1.2.826...   \n",
       "\n",
       "                                                  id  Normal  Actionable  \\\n",
       "0  1.2.826.0.1.3680043.8.498.97979602815077649368...       0           0   \n",
       "1  1.2.826.0.1.3680043.8.498.12136582480949936067...       0           1   \n",
       "2  1.2.826.0.1.3680043.8.498.12136582480949936067...       0           1   \n",
       "3  1.2.826.0.1.3680043.8.498.12136582480949936067...       0           1   \n",
       "4  1.2.826.0.1.3680043.8.498.12136582480949936067...       0           1   \n",
       "\n",
       "   Benign  Cancer  \n",
       "0       1       0  \n",
       "1       0       0  \n",
       "2       0       0  \n",
       "3       0       0  \n",
       "4       0       0  "
      ]
     },
     "execution_count": 55,
     "metadata": {},
     "output_type": "execute_result"
    }
   ],
   "source": [
    "df_paths.head()"
   ]
  },
  {
   "cell_type": "code",
   "execution_count": 56,
   "metadata": {
    "scrolled": true
   },
   "outputs": [
    {
     "name": "stderr",
     "output_type": "stream",
     "text": [
      "/Users/jon/opt/anaconda3/lib/python3.8/site-packages/openjpeg/utils.py:189: UserWarning: The (0028,0101) Bits Stored value '10' in the dataset does not match the component precision value '16' found in the JPEG 2000 data. It's recommended that you change the Bits Stored value to produce the correct output\n",
      "  warnings.warn(\n"
     ]
    },
    {
     "ename": "KeyboardInterrupt",
     "evalue": "",
     "output_type": "error",
     "traceback": [
      "\u001b[0;31m---------------------------------------------------------------------------\u001b[0m",
      "\u001b[0;31mKeyboardInterrupt\u001b[0m                         Traceback (most recent call last)",
      "\u001b[0;32m<ipython-input-56-58c3790f8387>\u001b[0m in \u001b[0;36m<module>\u001b[0;34m\u001b[0m\n\u001b[0;32m----> 1\u001b[0;31m \u001b[0mimages\u001b[0m \u001b[0;34m=\u001b[0m \u001b[0;34m[\u001b[0m\u001b[0mview_image\u001b[0m\u001b[0;34m(\u001b[0m\u001b[0mdf_paths\u001b[0m\u001b[0;34m,\u001b[0m \u001b[0mi\u001b[0m\u001b[0;34m)\u001b[0m \u001b[0;32mif\u001b[0m \u001b[0mpath_exists\u001b[0m\u001b[0;34m(\u001b[0m\u001b[0mdf_paths\u001b[0m\u001b[0;34m,\u001b[0m\u001b[0mi\u001b[0m\u001b[0;34m)\u001b[0m \u001b[0;32melse\u001b[0m \u001b[0mnp\u001b[0m\u001b[0;34m.\u001b[0m\u001b[0mnan\u001b[0m \u001b[0;32mfor\u001b[0m \u001b[0mi\u001b[0m\u001b[0;34m,\u001b[0m\u001b[0mr\u001b[0m \u001b[0;32min\u001b[0m \u001b[0mdf_paths\u001b[0m\u001b[0;34m.\u001b[0m\u001b[0miterrows\u001b[0m\u001b[0;34m(\u001b[0m\u001b[0;34m)\u001b[0m\u001b[0;34m]\u001b[0m\u001b[0;34m\u001b[0m\u001b[0;34m\u001b[0m\u001b[0m\n\u001b[0m",
      "\u001b[0;32m<ipython-input-56-58c3790f8387>\u001b[0m in \u001b[0;36m<listcomp>\u001b[0;34m(.0)\u001b[0m\n\u001b[0;32m----> 1\u001b[0;31m \u001b[0mimages\u001b[0m \u001b[0;34m=\u001b[0m \u001b[0;34m[\u001b[0m\u001b[0mview_image\u001b[0m\u001b[0;34m(\u001b[0m\u001b[0mdf_paths\u001b[0m\u001b[0;34m,\u001b[0m \u001b[0mi\u001b[0m\u001b[0;34m)\u001b[0m \u001b[0;32mif\u001b[0m \u001b[0mpath_exists\u001b[0m\u001b[0;34m(\u001b[0m\u001b[0mdf_paths\u001b[0m\u001b[0;34m,\u001b[0m\u001b[0mi\u001b[0m\u001b[0;34m)\u001b[0m \u001b[0;32melse\u001b[0m \u001b[0mnp\u001b[0m\u001b[0;34m.\u001b[0m\u001b[0mnan\u001b[0m \u001b[0;32mfor\u001b[0m \u001b[0mi\u001b[0m\u001b[0;34m,\u001b[0m\u001b[0mr\u001b[0m \u001b[0;32min\u001b[0m \u001b[0mdf_paths\u001b[0m\u001b[0;34m.\u001b[0m\u001b[0miterrows\u001b[0m\u001b[0;34m(\u001b[0m\u001b[0;34m)\u001b[0m\u001b[0;34m]\u001b[0m\u001b[0;34m\u001b[0m\u001b[0;34m\u001b[0m\u001b[0m\n\u001b[0m",
      "\u001b[0;32m<ipython-input-36-7e96b73c15e6>\u001b[0m in \u001b[0;36mview_image\u001b[0;34m(df, row)\u001b[0m\n\u001b[1;32m      7\u001b[0m     \u001b[0;31m#assert os.path.exists(image_path), 'image does not exist'\u001b[0m\u001b[0;34m\u001b[0m\u001b[0;34m\u001b[0m\u001b[0;34m\u001b[0m\u001b[0m\n\u001b[1;32m      8\u001b[0m \u001b[0;34m\u001b[0m\u001b[0m\n\u001b[0;32m----> 9\u001b[0;31m     \u001b[0mimage\u001b[0m \u001b[0;34m=\u001b[0m \u001b[0mdcmread_image\u001b[0m\u001b[0;34m(\u001b[0m\u001b[0mfp\u001b[0m\u001b[0;34m=\u001b[0m\u001b[0mimage_path\u001b[0m\u001b[0;34m,\u001b[0m \u001b[0mview\u001b[0m\u001b[0;34m=\u001b[0m\u001b[0mview\u001b[0m\u001b[0;34m)\u001b[0m\u001b[0;34m\u001b[0m\u001b[0;34m\u001b[0m\u001b[0m\n\u001b[0m\u001b[1;32m     10\u001b[0m     \u001b[0;32mreturn\u001b[0m \u001b[0mimage\u001b[0m\u001b[0;34m\u001b[0m\u001b[0;34m\u001b[0m\u001b[0m\n\u001b[1;32m     11\u001b[0m \u001b[0;34m\u001b[0m\u001b[0m\n",
      "\u001b[0;32m~/Documents/bcs-cnn/helper_tools/dicom_tools.py\u001b[0m in \u001b[0;36mdcmread_image\u001b[0;34m(fp, view, index)\u001b[0m\n\u001b[1;32m     15\u001b[0m     \u001b[0;34m\"\"\"Read pixel array from DBT DICOM file\"\"\"\u001b[0m\u001b[0;34m\u001b[0m\u001b[0;34m\u001b[0m\u001b[0m\n\u001b[1;32m     16\u001b[0m     \u001b[0mds\u001b[0m \u001b[0;34m=\u001b[0m \u001b[0mdicom\u001b[0m\u001b[0;34m.\u001b[0m\u001b[0mdcmread\u001b[0m\u001b[0;34m(\u001b[0m\u001b[0mfp\u001b[0m\u001b[0;34m)\u001b[0m\u001b[0;34m\u001b[0m\u001b[0;34m\u001b[0m\u001b[0m\n\u001b[0;32m---> 17\u001b[0;31m     \u001b[0mds\u001b[0m\u001b[0;34m.\u001b[0m\u001b[0mdecompress\u001b[0m\u001b[0;34m(\u001b[0m\u001b[0mhandler_name\u001b[0m\u001b[0;34m=\u001b[0m\u001b[0;34m\"pylibjpeg\"\u001b[0m\u001b[0;34m)\u001b[0m\u001b[0;34m\u001b[0m\u001b[0;34m\u001b[0m\u001b[0m\n\u001b[0m\u001b[1;32m     18\u001b[0m     \u001b[0mpixel_array\u001b[0m \u001b[0;34m=\u001b[0m \u001b[0mds\u001b[0m\u001b[0;34m.\u001b[0m\u001b[0mpixel_array\u001b[0m\u001b[0;34m\u001b[0m\u001b[0;34m\u001b[0m\u001b[0m\n\u001b[1;32m     19\u001b[0m     \u001b[0mview_laterality\u001b[0m \u001b[0;34m=\u001b[0m \u001b[0mview\u001b[0m\u001b[0;34m[\u001b[0m\u001b[0;36m0\u001b[0m\u001b[0;34m]\u001b[0m\u001b[0;34m.\u001b[0m\u001b[0mupper\u001b[0m\u001b[0;34m(\u001b[0m\u001b[0;34m)\u001b[0m\u001b[0;34m\u001b[0m\u001b[0;34m\u001b[0m\u001b[0m\n",
      "\u001b[0;32m~/opt/anaconda3/lib/python3.8/site-packages/pydicom/dataset.py\u001b[0m in \u001b[0;36mdecompress\u001b[0;34m(self, handler_name)\u001b[0m\n\u001b[1;32m   1606\u001b[0m             \u001b[0;34m*\u001b[0m\u001b[0mExplicit\u001b[0m \u001b[0mVR\u001b[0m \u001b[0mLittle\u001b[0m \u001b[0mEndian\u001b[0m\u001b[0;34m*\u001b[0m \u001b[0;32mas\u001b[0m \u001b[0mrequired\u001b[0m \u001b[0mby\u001b[0m \u001b[0mthe\u001b[0m \u001b[0mDICOM\u001b[0m \u001b[0mStandard\u001b[0m\u001b[0;34m.\u001b[0m\u001b[0;34m\u001b[0m\u001b[0;34m\u001b[0m\u001b[0m\n\u001b[1;32m   1607\u001b[0m         \"\"\"\n\u001b[0;32m-> 1608\u001b[0;31m         \u001b[0mself\u001b[0m\u001b[0;34m.\u001b[0m\u001b[0mconvert_pixel_data\u001b[0m\u001b[0;34m(\u001b[0m\u001b[0mhandler_name\u001b[0m\u001b[0;34m)\u001b[0m\u001b[0;34m\u001b[0m\u001b[0;34m\u001b[0m\u001b[0m\n\u001b[0m\u001b[1;32m   1609\u001b[0m         \u001b[0mself\u001b[0m\u001b[0;34m.\u001b[0m\u001b[0mis_decompressed\u001b[0m \u001b[0;34m=\u001b[0m \u001b[0;32mTrue\u001b[0m\u001b[0;34m\u001b[0m\u001b[0;34m\u001b[0m\u001b[0m\n\u001b[1;32m   1610\u001b[0m         \u001b[0;31m# May have been undefined length pixel data, but won't be now\u001b[0m\u001b[0;34m\u001b[0m\u001b[0;34m\u001b[0m\u001b[0;34m\u001b[0m\u001b[0m\n",
      "\u001b[0;32m~/opt/anaconda3/lib/python3.8/site-packages/pydicom/dataset.py\u001b[0m in \u001b[0;36mconvert_pixel_data\u001b[0;34m(self, handler_name)\u001b[0m\n\u001b[1;32m   1431\u001b[0m \u001b[0;34m\u001b[0m\u001b[0m\n\u001b[1;32m   1432\u001b[0m         \u001b[0;32mif\u001b[0m \u001b[0mhandler_name\u001b[0m\u001b[0;34m:\u001b[0m\u001b[0;34m\u001b[0m\u001b[0;34m\u001b[0m\u001b[0m\n\u001b[0;32m-> 1433\u001b[0;31m             \u001b[0mself\u001b[0m\u001b[0;34m.\u001b[0m\u001b[0m_convert_pixel_data_using_handler\u001b[0m\u001b[0;34m(\u001b[0m\u001b[0mhandler_name\u001b[0m\u001b[0;34m)\u001b[0m\u001b[0;34m\u001b[0m\u001b[0;34m\u001b[0m\u001b[0m\n\u001b[0m\u001b[1;32m   1434\u001b[0m         \u001b[0;32melse\u001b[0m\u001b[0;34m:\u001b[0m\u001b[0;34m\u001b[0m\u001b[0;34m\u001b[0m\u001b[0m\n\u001b[1;32m   1435\u001b[0m             \u001b[0mself\u001b[0m\u001b[0;34m.\u001b[0m\u001b[0m_convert_pixel_data_without_handler\u001b[0m\u001b[0;34m(\u001b[0m\u001b[0;34m)\u001b[0m\u001b[0;34m\u001b[0m\u001b[0;34m\u001b[0m\u001b[0m\n",
      "\u001b[0;32m~/opt/anaconda3/lib/python3.8/site-packages/pydicom/dataset.py\u001b[0m in \u001b[0;36m_convert_pixel_data_using_handler\u001b[0;34m(self, name)\u001b[0m\n\u001b[1;32m   1469\u001b[0m             )\n\u001b[1;32m   1470\u001b[0m         \u001b[0;31m# if the conversion fails, the exception is propagated up\u001b[0m\u001b[0;34m\u001b[0m\u001b[0;34m\u001b[0m\u001b[0;34m\u001b[0m\u001b[0m\n\u001b[0;32m-> 1471\u001b[0;31m         \u001b[0mself\u001b[0m\u001b[0;34m.\u001b[0m\u001b[0m_do_pixel_data_conversion\u001b[0m\u001b[0;34m(\u001b[0m\u001b[0mhandler\u001b[0m\u001b[0;34m)\u001b[0m\u001b[0;34m\u001b[0m\u001b[0;34m\u001b[0m\u001b[0m\n\u001b[0m\u001b[1;32m   1472\u001b[0m \u001b[0;34m\u001b[0m\u001b[0m\n\u001b[1;32m   1473\u001b[0m     \u001b[0;32mdef\u001b[0m \u001b[0m_convert_pixel_data_without_handler\u001b[0m\u001b[0;34m(\u001b[0m\u001b[0mself\u001b[0m\u001b[0;34m)\u001b[0m \u001b[0;34m->\u001b[0m \u001b[0;32mNone\u001b[0m\u001b[0;34m:\u001b[0m\u001b[0;34m\u001b[0m\u001b[0;34m\u001b[0m\u001b[0m\n",
      "\u001b[0;32m~/opt/anaconda3/lib/python3.8/site-packages/pydicom/dataset.py\u001b[0m in \u001b[0;36m_do_pixel_data_conversion\u001b[0;34m(self, handler)\u001b[0m\n\u001b[1;32m   1552\u001b[0m         \u001b[0;31m# Use the handler to get a 1D numpy array of the pixel data\u001b[0m\u001b[0;34m\u001b[0m\u001b[0;34m\u001b[0m\u001b[0;34m\u001b[0m\u001b[0m\n\u001b[1;32m   1553\u001b[0m         \u001b[0;31m# Will raise an exception if no pixel data element\u001b[0m\u001b[0;34m\u001b[0m\u001b[0;34m\u001b[0m\u001b[0;34m\u001b[0m\u001b[0m\n\u001b[0;32m-> 1554\u001b[0;31m         \u001b[0marr\u001b[0m \u001b[0;34m=\u001b[0m \u001b[0mhandler\u001b[0m\u001b[0;34m.\u001b[0m\u001b[0mget_pixeldata\u001b[0m\u001b[0;34m(\u001b[0m\u001b[0mself\u001b[0m\u001b[0;34m)\u001b[0m\u001b[0;34m\u001b[0m\u001b[0;34m\u001b[0m\u001b[0m\n\u001b[0m\u001b[1;32m   1555\u001b[0m         \u001b[0mself\u001b[0m\u001b[0;34m.\u001b[0m\u001b[0m_pixel_array\u001b[0m \u001b[0;34m=\u001b[0m \u001b[0mreshape_pixel_array\u001b[0m\u001b[0;34m(\u001b[0m\u001b[0mself\u001b[0m\u001b[0;34m,\u001b[0m \u001b[0marr\u001b[0m\u001b[0;34m)\u001b[0m\u001b[0;34m\u001b[0m\u001b[0;34m\u001b[0m\u001b[0m\n\u001b[1;32m   1556\u001b[0m \u001b[0;34m\u001b[0m\u001b[0m\n",
      "\u001b[0;32m~/opt/anaconda3/lib/python3.8/site-packages/pydicom/pixel_data_handlers/pylibjpeg_handler.py\u001b[0m in \u001b[0;36mget_pixeldata\u001b[0;34m(ds)\u001b[0m\n\u001b[1;32m    292\u001b[0m \u001b[0;34m\u001b[0m\u001b[0m\n\u001b[1;32m    293\u001b[0m     \u001b[0mgenerate_offsets\u001b[0m \u001b[0;34m=\u001b[0m \u001b[0mrange\u001b[0m\u001b[0;34m(\u001b[0m\u001b[0;36m0\u001b[0m\u001b[0;34m,\u001b[0m \u001b[0mexpected_len\u001b[0m\u001b[0;34m,\u001b[0m \u001b[0mframe_len\u001b[0m\u001b[0;34m)\u001b[0m\u001b[0;34m\u001b[0m\u001b[0;34m\u001b[0m\u001b[0m\n\u001b[0;32m--> 294\u001b[0;31m     \u001b[0;32mfor\u001b[0m \u001b[0mframe\u001b[0m\u001b[0;34m,\u001b[0m \u001b[0moffset\u001b[0m \u001b[0;32min\u001b[0m \u001b[0mzip\u001b[0m\u001b[0;34m(\u001b[0m\u001b[0mgenerate_frames\u001b[0m\u001b[0;34m(\u001b[0m\u001b[0mds\u001b[0m\u001b[0;34m,\u001b[0m \u001b[0;32mFalse\u001b[0m\u001b[0;34m)\u001b[0m\u001b[0;34m,\u001b[0m \u001b[0mgenerate_offsets\u001b[0m\u001b[0;34m)\u001b[0m\u001b[0;34m:\u001b[0m\u001b[0;34m\u001b[0m\u001b[0;34m\u001b[0m\u001b[0m\n\u001b[0m\u001b[1;32m    295\u001b[0m         \u001b[0marr\u001b[0m\u001b[0;34m[\u001b[0m\u001b[0moffset\u001b[0m\u001b[0;34m:\u001b[0m\u001b[0moffset\u001b[0m \u001b[0;34m+\u001b[0m \u001b[0mframe_len\u001b[0m\u001b[0;34m]\u001b[0m \u001b[0;34m=\u001b[0m \u001b[0mframe\u001b[0m\u001b[0;34m\u001b[0m\u001b[0;34m\u001b[0m\u001b[0m\n\u001b[1;32m    296\u001b[0m \u001b[0;34m\u001b[0m\u001b[0m\n",
      "\u001b[0;32m~/opt/anaconda3/lib/python3.8/site-packages/pydicom/pixel_data_handlers/pylibjpeg_handler.py\u001b[0m in \u001b[0;36mgenerate_frames\u001b[0;34m(ds, reshape)\u001b[0m\n\u001b[1;32m    235\u001b[0m     \u001b[0mdtype\u001b[0m \u001b[0;34m=\u001b[0m \u001b[0mpixel_dtype\u001b[0m\u001b[0;34m(\u001b[0m\u001b[0mds\u001b[0m\u001b[0;34m)\u001b[0m\u001b[0;34m\u001b[0m\u001b[0;34m\u001b[0m\u001b[0m\n\u001b[1;32m    236\u001b[0m     \u001b[0;32mfor\u001b[0m \u001b[0mframe\u001b[0m \u001b[0;32min\u001b[0m \u001b[0mgenerate_pixel_data_frame\u001b[0m\u001b[0;34m(\u001b[0m\u001b[0mds\u001b[0m\u001b[0;34m.\u001b[0m\u001b[0mPixelData\u001b[0m\u001b[0;34m,\u001b[0m \u001b[0mnr_frames\u001b[0m\u001b[0;34m)\u001b[0m\u001b[0;34m:\u001b[0m\u001b[0;34m\u001b[0m\u001b[0;34m\u001b[0m\u001b[0m\n\u001b[0;32m--> 237\u001b[0;31m         \u001b[0marr\u001b[0m \u001b[0;34m=\u001b[0m \u001b[0mdecoder\u001b[0m\u001b[0;34m(\u001b[0m\u001b[0mframe\u001b[0m\u001b[0;34m,\u001b[0m \u001b[0mpixel_module\u001b[0m\u001b[0;34m)\u001b[0m\u001b[0;34m\u001b[0m\u001b[0;34m\u001b[0m\u001b[0m\n\u001b[0m\u001b[1;32m    238\u001b[0m \u001b[0;34m\u001b[0m\u001b[0m\n\u001b[1;32m    239\u001b[0m         if (\n",
      "\u001b[0;32m~/opt/anaconda3/lib/python3.8/site-packages/openjpeg/utils.py\u001b[0m in \u001b[0;36mdecode_pixel_data\u001b[0;34m(stream, ds)\u001b[0m\n\u001b[1;32m    171\u001b[0m         )\n\u001b[1;32m    172\u001b[0m \u001b[0;34m\u001b[0m\u001b[0m\n\u001b[0;32m--> 173\u001b[0;31m     \u001b[0marr\u001b[0m \u001b[0;34m=\u001b[0m \u001b[0m_openjpeg\u001b[0m\u001b[0;34m.\u001b[0m\u001b[0mdecode\u001b[0m\u001b[0;34m(\u001b[0m\u001b[0mstream\u001b[0m\u001b[0;34m,\u001b[0m \u001b[0mj2k_format\u001b[0m\u001b[0;34m)\u001b[0m\u001b[0;34m\u001b[0m\u001b[0;34m\u001b[0m\u001b[0m\n\u001b[0m\u001b[1;32m    174\u001b[0m \u001b[0;34m\u001b[0m\u001b[0m\n\u001b[1;32m    175\u001b[0m     \u001b[0;32mif\u001b[0m \u001b[0;32mnot\u001b[0m \u001b[0mds\u001b[0m\u001b[0;34m:\u001b[0m\u001b[0;34m\u001b[0m\u001b[0;34m\u001b[0m\u001b[0m\n",
      "\u001b[0;31mKeyboardInterrupt\u001b[0m: "
     ]
    }
   ],
   "source": [
    "images = [view_image(df_paths, i) if path_exists(df_paths,i) else np.nan for i,r in df_paths.iterrows()]"
   ]
  },
  {
   "cell_type": "code",
   "execution_count": null,
   "metadata": {},
   "outputs": [],
   "source": [
    "images = pd.Series(images)\n",
    "mask = images.isnull()\n",
    "df_subset = df_paths[mask]\n",
    "df_subset.head()"
   ]
  },
  {
   "cell_type": "code",
   "execution_count": null,
   "metadata": {},
   "outputs": [],
   "source": [
    "np.save(TRAIN_DIR / 'training_images.npz', images)\n",
    "df_sub = df_subset[:,6:]\n",
    "df_sub.pickle(TRAIN_DIR / 'training_target.pkl')"
   ]
  },
  {
   "cell_type": "code",
   "execution_count": null,
   "metadata": {},
   "outputs": [],
   "source": [
    "df_sub.head()"
   ]
  }
 ],
 "metadata": {
  "kernelspec": {
   "display_name": "Python 3",
   "language": "python",
   "name": "python3"
  },
  "language_info": {
   "codemirror_mode": {
    "name": "ipython",
    "version": 3
   },
   "file_extension": ".py",
   "mimetype": "text/x-python",
   "name": "python",
   "nbconvert_exporter": "python",
   "pygments_lexer": "ipython3",
   "version": "3.8.5"
  }
 },
 "nbformat": 4,
 "nbformat_minor": 4
}
